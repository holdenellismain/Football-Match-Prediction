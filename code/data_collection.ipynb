{
 "cells": [
  {
   "cell_type": "code",
   "execution_count": 2,
   "metadata": {},
   "outputs": [],
   "source": [
    "import pandas as pd\n",
    "from web_scraper import *\n",
    "from time import sleep\n",
    "from csv_funcs import *\n",
    "import csv"
   ]
  },
  {
   "cell_type": "markdown",
   "metadata": {},
   "source": [
    "Step 1: \n",
    "<br>Scrape fbref using list of links"
   ]
  },
  {
   "cell_type": "code",
   "execution_count": null,
   "metadata": {},
   "outputs": [],
   "source": [
    "in_file_path = 'C:/Users/fires/Python Projects/Football Match Modelling/epl_teams.txt' #list of fbref team page links\n",
    "out_file_path = \"C:/Users/fires/Python Projects/Football Match Modelling/tmp.csv\"\n",
    "\n",
    "teams_list = open(in_file_path, 'r').read().splitlines() #path to file of team pages\n",
    "\n",
    "for team_url in teams_list:\n",
    "    curr_df = fbref_scrape(team_url)\n",
    "    sleep(4) #avoid rate limiting (20 requests/min is maximum)\n",
    "    append_csv(curr_df, out_file_path)"
   ]
  },
  {
   "cell_type": "markdown",
   "metadata": {},
   "source": [
    "Step 2: <br>\n",
    "Before this step, I sorted all my sheets by date using alphabetical order of home team as a tie breaker so that they line up <br>\n",
    "Now I can add the betting odds for 2012-2024. Additionally, modify the table manually to have a column for the season and replace home team names so that they match the away team names.\n"
   ]
  },
  {
   "cell_type": "code",
   "execution_count": null,
   "metadata": {},
   "outputs": [],
   "source": [
    "#load in dataframe of fbref match data\n",
    "fb_df = pd.read_csv(\"C:/Users/fires/Python Projects/Football Match Modelling/tmp.csv\")\n",
    "fb_df['B365H'] = pd.Series(dtype='Float32')\n",
    "fb_df['B365D'] = pd.Series(dtype='Float32')\n",
    "fb_df['B365A'] = pd.Series(dtype='Float32')\n",
    "\n",
    "#array of file paths for betting odds data, list allows me to load only one at a time and save memory\n",
    "main_path = 'C:/Users/fires/Python Projects/Football Match Modelling/betodds/' #folder path, append names to this to get path\n",
    "odds_file_names = ('12_13.csv','13_14.csv','14_15.csv','15_16.csv','16_17.csv','17_18.csv', '18_19.csv', '19_20.csv', \n",
    "                   '20_21.csv', '21_22.csv', '22_23.csv', '23_24.csv')\n",
    "\n",
    "'''\n",
    "this loop merges the odds data onto the appropriate section of the all games sheet\n",
    "'''\n",
    "fb_index = 380 #start of the 2012-13 season, we don't need odds for the 2011-12 season\n",
    "for file in odds_file_names:\n",
    "    odds_df = pd.read_csv(main_path + file)[['B365H','B365D','B365A']] #load in odds for that season\n",
    "    stop = fb_index + 380\n",
    "    fb_df.iloc[fb_index:stop,11:] = odds_df.values\n",
    "    fb_index = stop\n",
    "\n",
    "fb_df.to_csv('tmp2.csv', index=False)"
   ]
  },
  {
   "cell_type": "markdown",
   "metadata": {},
   "source": [
    "Step 4: <br>\n",
    "Get Premier League table data in order to calculate if a match is significant. No team has ever been relegated or secured the title before March so we'll ignore league tables from before this date and assume matches are equally significant for all teams. Since the set used to remove duplicates is unordered, the output needs to be sorted manually."
   ]
  },
  {
   "cell_type": "code",
   "execution_count": null,
   "metadata": {},
   "outputs": [],
   "source": [
    "#create a set of all unique match dates for 12/13-23/24\n",
    "#no team has ever been out of contention before March\n",
    "match_dates = set()\n",
    "comp_months = [3,4,5,6,7] #months where games can be insignificant\n",
    "with open('tmp2.csv', 'r') as file:\n",
    "    reader = csv.DictReader(file)\n",
    "    for row in reader:\n",
    "        if row['season'] != '11/12' : #don't need 11/12 since I'm not modelling using this season\n",
    "            month = int(row['match_date'][:2].replace('/',''))\n",
    "            if month in comp_months:\n",
    "                match_dates.add(row['match_date'])\n",
    "\n",
    "for date in match_dates:\n",
    "    date_list = date.split('/')\n",
    "    sleep(4) #avoid rate limiting on the API\n",
    "    date_df = prem_table_scrape(date_list)\n",
    "    append_csv(date_df, 'tables_v2.csv')"
   ]
  },
  {
   "cell_type": "markdown",
   "metadata": {},
   "source": [
    "Step 3: <br>\n",
    "Load tables back in. Need to manually change some of the longer team names (ex: Manchester United -> Manchester Utd) because fbref abbreviates more"
   ]
  },
  {
   "cell_type": "code",
   "execution_count": null,
   "metadata": {},
   "outputs": [],
   "source": [
    "#import league tables into dictionary of pandas dataframes for fast lookup\n",
    "tables = {}\n",
    "\n",
    "#shifts dates one back. tables are from the END of the date listed so in order to tell if a match is significant we need to know the table from \n",
    "#the end of the day before\n",
    "with open('tables.csv', 'r') as file:\n",
    "    reader = csv.reader(file)\n",
    "    header = next(reader) #skip header\n",
    "    for line in reader:\n",
    "        date = line[0]\n",
    "        if tables != {}: #and the date matches, add the line\n",
    "            if date in tables:\n",
    "                tables[date].loc[len(tables[date])] = line[1:]\n",
    "                continue\n",
    "        tables[date] = pd.DataFrame([line[1:]], columns=header[1:])"
   ]
  },
  {
   "cell_type": "markdown",
   "metadata": {},
   "source": [
    "Step 4: <br>\n",
    "Load match data into class structure and use class methods to write training data file."
   ]
  },
  {
   "cell_type": "code",
   "execution_count": null,
   "metadata": {},
   "outputs": [],
   "source": [
    "from classes import game, team\n",
    "\n",
    "teams = []\n",
    "\n",
    "with open('tmp2.csv', 'r') as file:\n",
    "    reader = csv.reader(file)\n",
    "    next(reader) #skip header\n",
    "    for line in reader:\n",
    "        tmp_home = None\n",
    "        tmp_away = None\n",
    "        #find/initialize home team\n",
    "        for team_obj in teams or []:\n",
    "            if team_obj.getName() == line[2]: \n",
    "                tmp_home = team_obj\n",
    "        if not tmp_home: #if the team is new, add it to the teams list\n",
    "            tmp_home = team(line[2])\n",
    "            teams.append(tmp_home) \n",
    "        #find/initialize away team\n",
    "        for team_obj in teams or []:\n",
    "            if team_obj.getName() == line[3]:\n",
    "                tmp_away = team_obj\n",
    "        if not tmp_away: #if the team is new, add it to the teams list\n",
    "            tmp_away = team(line[3])\n",
    "            teams.append(tmp_away) \n",
    "        #initialize game\n",
    "        tmp_game = game(line, tmp_home, tmp_away, tables)\n",
    "        #add game to both teams gameslist\n",
    "        tmp_home.addGame(tmp_game)\n",
    "        tmp_away.addGame(tmp_game)\n",
    "\n",
    "        #if both teams have more than 5 games in the current season:\n",
    "        if tmp_home.getNumGames() > 5 and tmp_away.getNumGames() > 5:\n",
    "            home_prev_results = tmp_home.getPrevMatches()\n",
    "            away_prev_results = tmp_away.getPrevMatches()\n",
    "            row = {\n",
    "                \"date\" : line[0],\n",
    "                \"season\" : line[1],\n",
    "                \"home\" : line[2],\n",
    "                \"away\" : line[3],\n",
    "                \"result\" : line[4],\n",
    "                \"gd\" : int(line[5]) - int(line[6]),\n",
    "                \"win_odds\" : line[11],\n",
    "                \"draw_odds\" : line[12],\n",
    "                \"loss_odds\" : line[13],\n",
    "                \"h_prev_result1\" : home_prev_results[0],\n",
    "                \"h_prev_result2\" : home_prev_results[1],\n",
    "                \"h_prev_result3\" : home_prev_results[2],\n",
    "                \"a_prev_result1\" : away_prev_results[0],\n",
    "                \"a_prev_result2\" : away_prev_results[1],\n",
    "                \"a_prev_result3\" : away_prev_results[2],\n",
    "                \"form_diff\" : tmp_home.getForm() - tmp_away.getForm(),\n",
    "                \"home_yellows\" : tmp_home.getPrevMatchYellow(),\n",
    "                \"away_yellows\" : tmp_away.getPrevMatchYellow(),\n",
    "                \"home_reds\" : tmp_home.getPrevMatchRed(),\n",
    "                \"away_reds\" : tmp_away.getPrevMatchRed(),\n",
    "                \"significance\" : tmp_game.significant\n",
    "            }\n",
    "            append_row(\"tmp3.csv\", row)\n",
    "        else:\n",
    "            #included with missing data so that I can look up previous fixtures\n",
    "            row = {\n",
    "                \"date\" : line[0],\n",
    "                \"season\" : line[1],\n",
    "                \"home\" : line[2],\n",
    "                \"away\" : line[3],\n",
    "                \"result\" : line[4],\n",
    "                \"gd\" : int(line[5]) - int(line[6]),\n",
    "                \"win_odds\" : line[11],\n",
    "                \"draw_odds\" : line[12],\n",
    "                \"loss_odds\" : line[13],\n",
    "                \"h_prev_result1\" : '',\n",
    "                \"h_prev_result2\" : '',\n",
    "                \"h_prev_result3\" : '',\n",
    "                \"a_prev_result1\" : '',\n",
    "                \"a_prev_result2\" : '',\n",
    "                \"a_prev_result3\" : '',\n",
    "                \"form_diff\" : '',\n",
    "                \"home_yellows\" : '',\n",
    "                \"away_yellows\" : '',\n",
    "                \"home_reds\" : '',\n",
    "                \"away_reds\" : '',\n",
    "                \"significance\" : ''\n",
    "            }\n",
    "            append_row(\"tmp3.csv\", row)"
   ]
  },
  {
   "cell_type": "markdown",
   "metadata": {},
   "source": [
    "Step 5: <br>\n",
    "Get previous season average attendance for every team. Manually fill in values for teams that were promoted."
   ]
  },
  {
   "cell_type": "code",
   "execution_count": null,
   "metadata": {},
   "outputs": [],
   "source": [
    "in_file_path = 'C:/Users/fires/Python Projects/Football Match Modelling/epl_teams.txt' #list of fbref team page links\n",
    "out_file_path = \"C:/Users/fires/Python Projects/Football Match Modelling/attendance.csv\"\n",
    "\n",
    "teams_list = open(in_file_path, 'r').read().splitlines() #path to file of team pages\n",
    "\n",
    "for team_url in teams_list:\n",
    "    scrape = avg_attendance(team_url)\n",
    "    append_csv(scrape, out_file_path)\n",
    "    sleep(4)"
   ]
  }
 ],
 "metadata": {
  "kernelspec": {
   "display_name": "Python 3",
   "language": "python",
   "name": "python3"
  },
  "language_info": {
   "codemirror_mode": {
    "name": "ipython",
    "version": 3
   },
   "file_extension": ".py",
   "mimetype": "text/x-python",
   "name": "python",
   "nbconvert_exporter": "python",
   "pygments_lexer": "ipython3",
   "version": "3.11.1"
  }
 },
 "nbformat": 4,
 "nbformat_minor": 2
}
